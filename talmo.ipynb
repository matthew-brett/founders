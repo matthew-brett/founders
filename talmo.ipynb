{
 "cells": [
  {
   "cell_type": "markdown",
   "metadata": {},
   "source": [
    "# A sampling problem\n",
    "\n",
    "We will soon find that we will need to think about randomness and probability\n",
    "in order to give sensible answers to many questions.\n",
    "\n",
    "We start with a legal question, about race discrimination in jury selection."
   ]
  },
  {
   "cell_type": "markdown",
   "metadata": {},
   "source": [
    "## Attribution\n",
    "\n",
    "This example comes from the [Berkeley Foundations of Data Science course](https://www.inferentialthinking.com)."
   ]
  },
  {
   "cell_type": "markdown",
   "metadata": {},
   "source": [
    "## The problem - was jury selection biased?\n",
    "\n",
    "This example comes from a real court case and subsequent appeal to the US supreme court.\n",
    "\n",
    "In 1963, a court in Talladega County, Alabama sentenced a young man called\n",
    "Robert Swain to death.  All 12 of the jurors in Swain's case were white, but\n",
    "the population of eligible jurors at the time was 26% black and 74% white.\n",
    "\n",
    "Robert Swain and his legal team appealed this sentence all the way to the US\n",
    "Supreme Court, on the basis that his jury selection was biased against black\n",
    "jurors.\n",
    "\n",
    "The Supreme Court heard this case in 1965, and [denied Swain's\n",
    "appeal](https://en.wikipedia.org/wiki/Swain_v._Alabama). In its ruling, the\n",
    "Court wrote \"... the overall percentage disparity has been small and reflects\n",
    "no studied attempt to include or exclude a specified number of Negroes.\"  Were they right?  How could they decide this question, using the data they have.\n",
    "\n",
    "The evidence that Swain's team presented was substantial, but, for the moment,\n",
    "let imagine that we are on the Supreme Court, and the *only* information we\n",
    "have is that there were no black jurors for Swain's trial.   Our job is to\n",
    "decide whether that fact is evidence for bias against black jurors.\n",
    "\n",
    "We will spend the next while building up the tools we need to answer this\n",
    "question.\n",
    "\n",
    "In the process we will discover many of the fundamental ideas in statistics."
   ]
  },
  {
   "cell_type": "markdown",
   "metadata": {},
   "source": [
    "## A model of the world\n",
    "\n",
    "In the real world, we saw that none of Swain's jurors were black.\n",
    "\n",
    "We know that 26% of the eligible jurors were black.\n",
    "\n",
    "Now imagine a different, ideal world, where there is no bias against black jurors, and so any one of the 12 jurors has a 26% chance of being black.\n",
    "\n",
    "We might expect roughly 26% of the jurors to be black - that works out to\n",
    "*around* 3 black jurors.\n",
    "\n",
    "Why *around*?  Because we know, in this ideal world, that the 26% is only the\n",
    "*chance* that any one juror is black.  If we select 12 jurors, where each has a\n",
    "26% chance of being black, we will sometimes get 2 black jurors and sometimes\n",
    "we will get 3, or 4 or 1 or 5 black jurors.  It just depends on how the chance\n",
    "worked out, for each juror.  Put another way, it just depends on our *sample* -\n",
    "the actual set of jurors we got, in this ideal world.\n",
    "\n",
    "Now our question becomes - in this ideal world, where we know that the number\n",
    "of black jurors will vary just by chance, is zero a common number of jurors to\n",
    "get?\n",
    "\n",
    "Put another way, is zero black jurors *plausible* in the ideal world, where\n",
    "each juror has a 26% chance of being black?"
   ]
  },
  {
   "cell_type": "markdown",
   "metadata": {},
   "source": [
    "## The sampling distribution\n",
    "\n",
    "How can we work out which numbers are *plausible* in this ideal world?\n",
    "\n",
    "One easy way is by *simulation*.  That is what we will do next, using some\n",
    "simple code.\n",
    "\n",
    "First we get some libraries to use.  Don't worry about the details of the next chunk for now.  Just click inside the section, and press Shift-Enter to run it."
   ]
  },
  {
   "cell_type": "code",
   "execution_count": null,
   "metadata": {},
   "outputs": [],
   "source": [
    "# A library for dealing with numbers.\n",
    "import numpy as np\n",
    "# Plotting\n",
    "import matplotlib.pyplot as plt\n",
    "%matplotlib inline"
   ]
  },
  {
   "cell_type": "markdown",
   "metadata": {},
   "source": [
    "Next, for practice we generate a random number between 1 and 100.  We will take\n",
    "any number from 1 through 26 to mean we got a black juror, and any number above 26 to mean we got a white juror.\n",
    "\n",
    "Run this chunk a few times by clicking inside the chunk, and pressing\n",
    "Ctrl-Enter a few times.  You should see random numbers from 1 through 100."
   ]
  },
  {
   "cell_type": "code",
   "execution_count": null,
   "metadata": {},
   "outputs": [],
   "source": [
    "# Get a random number from 1 through 100, store in \"a\"\n",
    "a = np.random.randint(1, 101)\n",
    "# Show the result.\n",
    "a"
   ]
  },
  {
   "cell_type": "markdown",
   "metadata": {},
   "source": [
    "We'd like to make 12 of these in one go, to simulate a jury.  We do that like this:"
   ]
  },
  {
   "cell_type": "code",
   "execution_count": null,
   "metadata": {},
   "outputs": [],
   "source": [
    "# Get 12 random numbers from 1 through 100, store in \"b\"\n",
    "b = np.random.randint(1, 101, size=12)\n",
    "# Show the result\n",
    "b"
   ]
  },
  {
   "cell_type": "markdown",
   "metadata": {},
   "source": [
    "Notice that the chunk above made an *array* of numbers instead of a single\n",
    "number.  `a` above is a single number, but `b` is an *array* of 12 numbers.\n",
    "The name `b` refers to the sequence of 12 numbers.\n",
    "\n",
    "Now we want to test if the numbers are less than 27.  If the number is less\n",
    "than 27, this number represents a black juror in our ideal world.\n",
    "\n",
    "We do that like this:"
   ]
  },
  {
   "cell_type": "code",
   "execution_count": null,
   "metadata": {},
   "outputs": [],
   "source": [
    "# Check whether each number in the array is less than 27\n",
    "c = b < 27\n",
    "# Show the result\n",
    "c"
   ]
  },
  {
   "cell_type": "markdown",
   "metadata": {},
   "source": [
    "Notice that `c` is also an array, of the same length as `b`.  There is a True\n",
    "where the number was less than 27, and a False where the number was 27 or\n",
    "greater.  True in `c` means this was a black juror, in our ideal world, and\n",
    "False in `c` means this was a white juror.\n",
    "\n",
    "Finally, we can count the number of True values, and therefore, the number of black jurors in our simulated jury, with:"
   ]
  },
  {
   "cell_type": "code",
   "execution_count": null,
   "metadata": {},
   "outputs": [],
   "source": [
    "# Count the number of True values in c\n",
    "d = np.count_nonzero(c)\n",
    "# Show the result\n",
    "d"
   ]
  },
  {
   "cell_type": "markdown",
   "metadata": {},
   "source": [
    "Let's put that all together, to make a jury, and count the number of black jurors:"
   ]
  },
  {
   "cell_type": "code",
   "execution_count": null,
   "metadata": {},
   "outputs": [],
   "source": [
    "# Get 12 new random numbers from 1 through 100, store in \"b\"\n",
    "b = np.random.randint(1, 101, size=12)\n",
    "# Test whether they are below 27.\n",
    "c = b < 27\n",
    "# How many were less than 27?\n",
    "d = np.count_nonzero(c)\n",
    "# Show the result\n",
    "d"
   ]
  },
  {
   "cell_type": "markdown",
   "metadata": {},
   "source": [
    "Run this a few times, to get a feel for which values come up often, and which\n",
    "values are less common.\n",
    "\n",
    "Finally, we want to repeat this process many times, and collect the result.\n",
    "Don't worry about the details here."
   ]
  },
  {
   "cell_type": "code",
   "execution_count": null,
   "metadata": {},
   "outputs": [],
   "source": [
    "# Make 10000 zeros to store our results\n",
    "results = np.zeros(10000)\n",
    "# Repeat 10000 times\n",
    "for i in np.arange(10000):\n",
    "    # We repeat all the statements in the indented block.\n",
    "    # Get 12 new random numbers from 1 through 100, store in \"b\"\n",
    "    b = np.random.randint(1, 101, size=12)\n",
    "    # Test whether they are below 27.\n",
    "    c = b < 27\n",
    "    # Calculate how many were less than 27\n",
    "    d = np.count_nonzero(c)\n",
    "    # Store the result in our results array\n",
    "    results[i] = d\n",
    "    # We've finished this run, go back to repeat the next."
   ]
  },
  {
   "cell_type": "markdown",
   "metadata": {},
   "source": [
    "Notice that this took much less than a second.\n",
    "\n",
    "Look at the first 10 counts:"
   ]
  },
  {
   "cell_type": "code",
   "execution_count": null,
   "metadata": {},
   "outputs": [],
   "source": [
    "results[:10]"
   ]
  },
  {
   "cell_type": "markdown",
   "metadata": {},
   "source": [
    "Show the counts on a histogram:"
   ]
  },
  {
   "cell_type": "code",
   "execution_count": null,
   "metadata": {},
   "outputs": [],
   "source": [
    "plt.hist(results);"
   ]
  },
  {
   "cell_type": "markdown",
   "metadata": {},
   "source": [
    "How often do we see zero black jurors, of the 10000 juries we simulated?"
   ]
  },
  {
   "cell_type": "code",
   "execution_count": null,
   "metadata": {},
   "outputs": [],
   "source": [
    "# Put True where the count was 0, and False otherwise.\n",
    "zero_black = results == 0\n",
    "# Count the number of Trues (therefore, the number of zeros).\n",
    "no_black_jurors = np.count_nonzero(zero_black)\n",
    "# Show the result.\n",
    "no_black_jurors"
   ]
  },
  {
   "cell_type": "markdown",
   "metadata": {},
   "source": [
    "What *proportion* of the simulated juries had no black jurors?"
   ]
  },
  {
   "cell_type": "code",
   "execution_count": null,
   "metadata": {},
   "outputs": [],
   "source": [
    "# Proportion of jury simulations where we got 0 black jurors.\n",
    "no_black_jurors / 10000"
   ]
  },
  {
   "cell_type": "markdown",
   "metadata": {},
   "source": [
    "We conclude that, in the ideal world of no bias, and 26% chance of any juror\n",
    "being black, having zero black jurors is somewhat unusual, happening only\n",
    "around 3% of the time."
   ]
  },
  {
   "cell_type": "markdown",
   "metadata": {},
   "source": [
    "## Now your turn"
   ]
  },
  {
   "cell_type": "code",
   "execution_count": null,
   "metadata": {},
   "outputs": [],
   "source": [
    "# Run this cell to start.\n",
    "# Load the OKpy test library and tests.\n",
    "from client.api.notebook import Notebook\n",
    "ok = Notebook('talmo.ok')"
   ]
  },
  {
   "cell_type": "markdown",
   "metadata": {},
   "source": [
    "The tests in this notebook do not test if you have the right answer, but only\n",
    "if you have the *right sort* of answer.  *Be careful* -- the tests could pass,\n",
    "but your answer could still be wrong.\n",
    "\n",
    "Consider this problem:\n",
    "\n",
    "> Let us say that your friend has a family of four children.  What is the\n",
    "> chance that exactly three of the children are girls?\n",
    "\n",
    "We can solve this by simulation.\n",
    "\n",
    "In our ideal world, we say that the chance of any particular child being a boy or a girl is 50%.\n",
    "\n",
    "Now we simulate the birth of one child, by drawing a random number from 0\n",
    "through 1.  Run the cell below a few times to persuade yourself that this statement is working as you expect:"
   ]
  },
  {
   "cell_type": "code",
   "execution_count": null,
   "metadata": {},
   "outputs": [],
   "source": [
    "# A random number from 0 through 1 (up to, not including 2)\n",
    "a = np.random.randint(0, 2)\n",
    "# Show the result\n",
    "a"
   ]
  },
  {
   "cell_type": "markdown",
   "metadata": {},
   "source": [
    "The chunk below is currently generating 12 random numbers from 1 through 100,\n",
    "and putting the result into `g`.\n",
    "\n",
    "Edit the chunk to make it generate 4 random numbers from 0 through 1."
   ]
  },
  {
   "cell_type": "code",
   "execution_count": null,
   "metadata": {},
   "outputs": [],
   "source": [
    "g = np.random.randint(1, 101, size=12)"
   ]
  },
  {
   "cell_type": "code",
   "execution_count": null,
   "metadata": {},
   "outputs": [],
   "source": [
    "# Run this chunk to check your answer is plausible\n",
    "_ = ok.grade('q_01_random4')"
   ]
  },
  {
   "cell_type": "markdown",
   "metadata": {},
   "source": [
    "Remember that we can use `==` to check if numbers are equal.  For example, the\n",
    "chunk below checks if `2` is equal to `3`:"
   ]
  },
  {
   "cell_type": "code",
   "execution_count": null,
   "metadata": {},
   "outputs": [],
   "source": [
    "w = 2 == 3\n",
    "# Show the result.\n",
    "w"
   ]
  },
  {
   "cell_type": "markdown",
   "metadata": {},
   "source": [
    "The chunk below gives an array that is True for values in `g` that are less\n",
    "than 27, and False otherwise.  Edit the chunk so that it gives an array that is\n",
    "True for values in `g` that are equal to (`==`) 1, and False otherwise.\n",
    "is"
   ]
  },
  {
   "cell_type": "code",
   "execution_count": null,
   "metadata": {},
   "outputs": [],
   "source": [
    "h = g < 27"
   ]
  },
  {
   "cell_type": "code",
   "execution_count": null,
   "metadata": {},
   "outputs": [],
   "source": [
    "# Run this chunk to check your answer is plausible\n",
    "_ = ok.grade('q_02_random_eq_1')"
   ]
  },
  {
   "cell_type": "markdown",
   "metadata": {},
   "source": [
    "Now you're nearly ready to solve the problem.  Edit the chunk below to:\n",
    "\n",
    "* Make 4 random numbers from 0 through 1 instead of 12 random numbers from 1\n",
    "  through 100.\n",
    "* Count the number of values that are equal to 1.\n",
    "\n",
    "When you have correctly done the edits, and you run this chunk, you should see\n",
    "a good estimate for the answer to the problem."
   ]
  },
  {
   "cell_type": "code",
   "execution_count": null,
   "metadata": {},
   "outputs": [],
   "source": [
    "# Make 10000 zeros to store our results\n",
    "results = np.zeros(10000)\n",
    "# Repeat 10000 times\n",
    "for i in np.arange(10000):\n",
    "    # We repeat all the statements in the indented block.\n",
    "    # Get 4 new random numbers from 0 through 1, store in \"g\"\n",
    "    # Edit the line below to make this so.\n",
    "    g = np.random.randint(1, 101, size=4)\n",
    "    # Test whether they are equal to 1.\n",
    "    # Edit the line below to make this so.\n",
    "    h = g < 27\n",
    "    # Count how many were equal to 1.\n",
    "    j = np.count_nonzero(h)\n",
    "    # Store the result in our results array\n",
    "    results[i] = j\n",
    "    # We've finished this run, go back to repeat the next.\n",
    "\n",
    "# What proportion of families had 3 girls?\n",
    "p3 = np.count_nonzero(results == 3) / 10000\n",
    "print(f\"Proportion with 3 girls: {p3}\")"
   ]
  },
  {
   "cell_type": "code",
   "execution_count": null,
   "metadata": {},
   "outputs": [],
   "source": [
    "# Run this chunk to check your answer is plausible\n",
    "_ = ok.grade('q_03_3_girls')"
   ]
  },
  {
   "cell_type": "markdown",
   "metadata": {},
   "source": [
    "## Done\n",
    "\n",
    "You're finished with the assignment!  Be sure to...\n",
    "\n",
    "- **run all the tests** (the next cell has a shortcut for that),\n",
    "- **Save and Checkpoint** from the \"File\" menu.\n",
    "- Finally, **restart** the kernel for this notebook, and **run all the cells**,\n",
    "  to check that the notebook still works without errors.  Use the\n",
    "  \"Kernel\" menu, and choose \"Restart and Run All\".  If you find any\n",
    "  problems, go back and fix them, save the notebook, and restart / run\n",
    "  all again, before submitting."
   ]
  },
  {
   "cell_type": "code",
   "execution_count": null,
   "metadata": {},
   "outputs": [],
   "source": [
    "# For your convenience, you can run this cell to run all the tests at once!\n",
    "import os\n",
    "_ = [ok.grade(q[:-3]) for q in os.listdir(\"tests\") if q.startswith('q')]"
   ]
  }
 ],
 "metadata": {
  "jupytext": {
   "notebook_metadata_filter": "all,-language_info",
   "split_at_heading": true,
   "text_representation": {
    "extension": ".Rmd",
    "format_name": "rmarkdown",
    "format_version": "1.2",
    "jupytext_version": "1.5.1"
   }
  },
  "kernelspec": {
   "display_name": "Python 3",
   "language": "python",
   "name": "python3"
  }
 },
 "nbformat": 4,
 "nbformat_minor": 4
}
